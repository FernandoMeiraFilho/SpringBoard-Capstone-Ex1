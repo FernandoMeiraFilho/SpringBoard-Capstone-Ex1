{
 "cells": [
  {
   "cell_type": "markdown",
   "metadata": {},
   "source": [
    "# Data Disponibility Analysis"
   ]
  },
  {
   "cell_type": "markdown",
   "metadata": {},
   "source": [
    "The objective of this notebook is to check the data availability and test if there is enough observations to go further in the question. <br>\n",
    "\n",
    "<h3><b>Objectives:<b><br></h3>\n",
    "<ol>\n",
    "<li> Check the number of NaN's in <b>GDP</b> ( our main feature in the future models)</li>\n",
    "<li> Check the number of NaN's <b>private investment</b> feature (one of our main tests) </li>\n",
    "<li> Check the number of NaN's <b>public investment</b> feature (one of our main tests) </li>\n",
    "<li> Check the year with most data in our features so we can perform the I-distance method better </li>"
   ]
  },
  {
   "cell_type": "markdown",
   "metadata": {},
   "source": [
    "<div class=\"alert alert-success\">\n",
    "It is important to say that we are here exploring the data so we can apply the I-distance method. <br> <br>\n",
    "Another very important thing is that, when choosing for one year to apply the method, there is no intention to use imputation methods for investment variables (which are our main concern here as indicator) <b>because, only the cities that receive investment have values</b>, so there is no point to use completion when choosing just one year. \n",
    "</div>\n"
   ]
  },
  {
   "cell_type": "code",
   "execution_count": 25,
   "metadata": {
    "collapsed": false
   },
   "outputs": [
    {
     "data": {
      "text/html": [
       "<div>\n",
       "<table border=\"1\" class=\"dataframe\">\n",
       "  <thead>\n",
       "    <tr style=\"text-align: right;\">\n",
       "      <th></th>\n",
       "      <th>city</th>\n",
       "      <th>year</th>\n",
       "      <th>export</th>\n",
       "      <th>import</th>\n",
       "      <th>violence</th>\n",
       "      <th>HDI</th>\n",
       "      <th>educ_superior</th>\n",
       "      <th>gdp</th>\n",
       "      <th>gdp_growth</th>\n",
       "      <th>primary_enrolls</th>\n",
       "      <th>...</th>\n",
       "      <th>jobs</th>\n",
       "      <th>jobs_revenue</th>\n",
       "      <th>population</th>\n",
       "      <th>urban_pop</th>\n",
       "      <th>rural_pop</th>\n",
       "      <th>olding</th>\n",
       "      <th>urbing</th>\n",
       "      <th>fundamental</th>\n",
       "      <th>private_inv</th>\n",
       "      <th>pub_inv</th>\n",
       "    </tr>\n",
       "  </thead>\n",
       "  <tbody>\n",
       "    <tr>\n",
       "      <th>0</th>\n",
       "      <td>Adamantina</td>\n",
       "      <td>2000</td>\n",
       "      <td>NaN</td>\n",
       "      <td>NaN</td>\n",
       "      <td>0</td>\n",
       "      <td>0.721</td>\n",
       "      <td>10.83</td>\n",
       "      <td>NaN</td>\n",
       "      <td>NaN</td>\n",
       "      <td>NaN</td>\n",
       "      <td>...</td>\n",
       "      <td>5338.0</td>\n",
       "      <td>547.80</td>\n",
       "      <td>33484</td>\n",
       "      <td>30356</td>\n",
       "      <td>3128.0</td>\n",
       "      <td>60.91</td>\n",
       "      <td>90.66</td>\n",
       "      <td>NaN</td>\n",
       "      <td>NaN</td>\n",
       "      <td>NaN</td>\n",
       "    </tr>\n",
       "    <tr>\n",
       "      <th>1</th>\n",
       "      <td>Adamantina</td>\n",
       "      <td>2001</td>\n",
       "      <td>NaN</td>\n",
       "      <td>NaN</td>\n",
       "      <td>293</td>\n",
       "      <td>NaN</td>\n",
       "      <td>NaN</td>\n",
       "      <td>NaN</td>\n",
       "      <td>NaN</td>\n",
       "      <td>NaN</td>\n",
       "      <td>...</td>\n",
       "      <td>5418.0</td>\n",
       "      <td>602.97</td>\n",
       "      <td>33577</td>\n",
       "      <td>30475</td>\n",
       "      <td>3102.0</td>\n",
       "      <td>64.06</td>\n",
       "      <td>90.76</td>\n",
       "      <td>544.0</td>\n",
       "      <td>NaN</td>\n",
       "      <td>NaN</td>\n",
       "    </tr>\n",
       "    <tr>\n",
       "      <th>2</th>\n",
       "      <td>Adamantina</td>\n",
       "      <td>2002</td>\n",
       "      <td>NaN</td>\n",
       "      <td>NaN</td>\n",
       "      <td>326</td>\n",
       "      <td>NaN</td>\n",
       "      <td>NaN</td>\n",
       "      <td>281045.53</td>\n",
       "      <td>NaN</td>\n",
       "      <td>NaN</td>\n",
       "      <td>...</td>\n",
       "      <td>6006.0</td>\n",
       "      <td>654.70</td>\n",
       "      <td>33636</td>\n",
       "      <td>30635</td>\n",
       "      <td>3001.0</td>\n",
       "      <td>67.36</td>\n",
       "      <td>91.08</td>\n",
       "      <td>591.0</td>\n",
       "      <td>NaN</td>\n",
       "      <td>NaN</td>\n",
       "    </tr>\n",
       "    <tr>\n",
       "      <th>3</th>\n",
       "      <td>Adamantina</td>\n",
       "      <td>2003</td>\n",
       "      <td>7509556.0</td>\n",
       "      <td>NaN</td>\n",
       "      <td>289</td>\n",
       "      <td>NaN</td>\n",
       "      <td>NaN</td>\n",
       "      <td>334646.05</td>\n",
       "      <td>0.190718</td>\n",
       "      <td>NaN</td>\n",
       "      <td>...</td>\n",
       "      <td>6223.0</td>\n",
       "      <td>709.64</td>\n",
       "      <td>33677</td>\n",
       "      <td>30796</td>\n",
       "      <td>2881.0</td>\n",
       "      <td>70.87</td>\n",
       "      <td>91.45</td>\n",
       "      <td>677.0</td>\n",
       "      <td>NaN</td>\n",
       "      <td>NaN</td>\n",
       "    </tr>\n",
       "    <tr>\n",
       "      <th>4</th>\n",
       "      <td>Adamantina</td>\n",
       "      <td>2004</td>\n",
       "      <td>6864268.0</td>\n",
       "      <td>NaN</td>\n",
       "      <td>433</td>\n",
       "      <td>NaN</td>\n",
       "      <td>NaN</td>\n",
       "      <td>336598.55</td>\n",
       "      <td>0.005835</td>\n",
       "      <td>NaN</td>\n",
       "      <td>...</td>\n",
       "      <td>6751.0</td>\n",
       "      <td>762.66</td>\n",
       "      <td>33715</td>\n",
       "      <td>30958</td>\n",
       "      <td>2757.0</td>\n",
       "      <td>74.62</td>\n",
       "      <td>91.82</td>\n",
       "      <td>594.0</td>\n",
       "      <td>NaN</td>\n",
       "      <td>NaN</td>\n",
       "    </tr>\n",
       "  </tbody>\n",
       "</table>\n",
       "<p>5 rows × 30 columns</p>\n",
       "</div>"
      ],
      "text/plain": [
       "         city  year     export  import  violence    HDI  educ_superior  \\\n",
       "0  Adamantina  2000        NaN     NaN         0  0.721          10.83   \n",
       "1  Adamantina  2001        NaN     NaN       293    NaN            NaN   \n",
       "2  Adamantina  2002        NaN     NaN       326    NaN            NaN   \n",
       "3  Adamantina  2003  7509556.0     NaN       289    NaN            NaN   \n",
       "4  Adamantina  2004  6864268.0     NaN       433    NaN            NaN   \n",
       "\n",
       "         gdp  gdp_growth  primary_enrolls   ...       jobs  jobs_revenue  \\\n",
       "0        NaN         NaN              NaN   ...     5338.0        547.80   \n",
       "1        NaN         NaN              NaN   ...     5418.0        602.97   \n",
       "2  281045.53         NaN              NaN   ...     6006.0        654.70   \n",
       "3  334646.05    0.190718              NaN   ...     6223.0        709.64   \n",
       "4  336598.55    0.005835              NaN   ...     6751.0        762.66   \n",
       "\n",
       "   population  urban_pop  rural_pop  olding  urbing fundamental  private_inv  \\\n",
       "0       33484      30356     3128.0   60.91   90.66         NaN          NaN   \n",
       "1       33577      30475     3102.0   64.06   90.76       544.0          NaN   \n",
       "2       33636      30635     3001.0   67.36   91.08       591.0          NaN   \n",
       "3       33677      30796     2881.0   70.87   91.45       677.0          NaN   \n",
       "4       33715      30958     2757.0   74.62   91.82       594.0          NaN   \n",
       "\n",
       "   pub_inv  \n",
       "0      NaN  \n",
       "1      NaN  \n",
       "2      NaN  \n",
       "3      NaN  \n",
       "4      NaN  \n",
       "\n",
       "[5 rows x 30 columns]"
      ]
     },
     "execution_count": 25,
     "metadata": {},
     "output_type": "execute_result"
    }
   ],
   "source": [
    "import pandas as pd\n",
    "import numpy as np\n",
    "import matplotlib.pyplot as plt\n",
    "import seaborn as sns\n",
    "from IPython.display import display, Math, Latex\n",
    "% matplotlib inline\n",
    "\n",
    "\n",
    "df = pd.read_csv('SPcities2.csv', decimal=',', encoding='Iso-8859-1', sep=';')\n",
    "\n",
    "# In this dataset we have years that go beyond our interest, that is 2015 and less, so here I`m going to restrict to the interest\n",
    "\n",
    "df = df[df.year < 2016]\n",
    "df.head()"
   ]
  },
  {
   "cell_type": "markdown",
   "metadata": {},
   "source": [
    "<h4> 1.Check the number of NaN's in GDP ( our response in the future models) </h4>"
   ]
  },
  {
   "cell_type": "code",
   "execution_count": 26,
   "metadata": {
    "collapsed": false
   },
   "outputs": [
    {
     "data": {
      "text/plain": [
       "city               0.000000\n",
       "year               0.000000\n",
       "export             0.556977\n",
       "import             0.600484\n",
       "violence           0.000000\n",
       "HDI                0.875000\n",
       "educ_superior      0.875097\n",
       "gdp                0.187500\n",
       "gdp_growth         0.250000\n",
       "primary_enrolls    0.437500\n",
       "gdp_per            0.187597\n",
       "density_pop        0.000000\n",
       "value_add          0.187500\n",
       "agriculture_add    0.188760\n",
       "industry_add       0.187500\n",
       "services_add       0.187500\n",
       "eletricity         0.062500\n",
       "tax_revenue        0.250000\n",
       "hosp_rooms         0.721705\n",
       "hosp_rooms_per     0.721705\n",
       "jobs               0.000000\n",
       "jobs_revenue       0.000000\n",
       "population         0.000000\n",
       "urban_pop          0.000000\n",
       "rural_pop          0.041570\n",
       "olding             0.000000\n",
       "urbing             0.000000\n",
       "fundamental        0.251066\n",
       "private_inv        0.961628\n",
       "pub_inv            0.906977\n",
       "dtype: float64"
      ]
     },
     "execution_count": 26,
     "metadata": {},
     "output_type": "execute_result"
    }
   ],
   "source": [
    "data = df[df.city.notnull()]\n",
    "missing_features = data.isnull().sum()\n",
    "missing_features/len(df)\n",
    "\n",
    "#number of nulls in the features divided by the number of observations"
   ]
  },
  {
   "cell_type": "markdown",
   "metadata": {},
   "source": [
    "It seems that some features like: HDI, educ_superior, hosp_rooms and investments do not have too much data, so to perform the I-distance better we will need to choose the year with more data avaible (we are goind to check it further)."
   ]
  },
  {
   "cell_type": "code",
   "execution_count": 5,
   "metadata": {
    "collapsed": false
   },
   "outputs": [
    {
     "data": {
      "text/plain": [
       "<matplotlib.text.Text at 0x19d8ce1e780>"
      ]
     },
     "execution_count": 5,
     "metadata": {},
     "output_type": "execute_result"
    },
    {
     "data": {
      "image/png": "[encoded data removed]",
      "text/plain": [
       "<matplotlib.figure.Figure at 0x19d8acfd7f0>"
      ]
     },
     "metadata": {},
     "output_type": "display_data"
    }
   ],
   "source": [
    "# lets look the distribution of NaN values in different cities \n",
    "\n",
    "## GDP\n",
    "null_gdp = data.gdp_per.isnull().groupby(data['city']).sum()\n",
    "\n",
    "plt.hist(null_gdp)\n",
    "plt.title('Distribution of null in GDP features per city')"
   ]
  },
  {
   "cell_type": "markdown",
   "metadata": {},
   "source": [
    "It seems we have the same problem for all cities, so there must be the same years for all of them"
   ]
  },
  {
   "cell_type": "code",
   "execution_count": 6,
   "metadata": {
    "collapsed": false
   },
   "outputs": [
    {
     "name": "stdout",
     "output_type": "stream",
     "text": [
      "Number of unique cities:  645\n"
     ]
    },
    {
     "data": {
      "text/plain": [
       "year\n",
       "2000      0.0\n",
       "2001      0.0\n",
       "2002    645.0\n",
       "2003    644.0\n",
       "2004    645.0\n",
       "2005    645.0\n",
       "2006    645.0\n",
       "2007    645.0\n",
       "2008    645.0\n",
       "2009    645.0\n",
       "2010    645.0\n",
       "2011    645.0\n",
       "2012    645.0\n",
       "2013    645.0\n",
       "2014    645.0\n",
       "2015      0.0\n",
       "Name: gdp_per, dtype: float64"
      ]
     },
     "execution_count": 6,
     "metadata": {},
     "output_type": "execute_result"
    }
   ],
   "source": [
    "n_cities = len(np.unique(data.city))\n",
    "null_gdp_year = data.gdp_per.notnull().groupby(data['year']).sum()\n",
    "\n",
    "\n",
    "print('Number of unique cities: ', n_cities)\n",
    "null_gdp_year"
   ]
  },
  {
   "cell_type": "markdown",
   "metadata": {},
   "source": [
    "so here we have the problem: in 2000, 2001 and 2015 we have no gdp information. This years will have no use for us here, so we are going to avoid them. "
   ]
  },
  {
   "cell_type": "markdown",
   "metadata": {},
   "source": [
    "<h4> 2.Check the number of NaN's private investment feature (one of our main tests) </h4>"
   ]
  },
  {
   "cell_type": "code",
   "execution_count": 9,
   "metadata": {
    "collapsed": false
   },
   "outputs": [
    {
     "name": "stdout",
     "output_type": "stream",
     "text": [
      "Number of unique cities:  645\n",
      "Number cities with at least 1 value of private investment:  137\n",
      "% of cities with non null value in private investment:  21.240310077519382\n"
     ]
    },
    {
     "data": {
      "text/plain": [
       "<matplotlib.text.Text at 0x19d8d98ec88>"
      ]
     },
     "execution_count": 9,
     "metadata": {},
     "output_type": "execute_result"
    },
    {
     "data": {
      "image/png": "[encoded data removed]",
      "text/plain": [
       "<matplotlib.figure.Figure at 0x19d8d8b90b8>"
      ]
     },
     "metadata": {},
     "output_type": "display_data"
    }
   ],
   "source": [
    "## Private Investment\n",
    "\n",
    "\n",
    "null_private = data['private_inv'].notnull().groupby(data['city']).sum()\n",
    "\n",
    "# here we need to check in the cities that have some private investment value, how the distribution of NaN looks? \n",
    "\n",
    "print('Number of unique cities: ', n_cities)\n",
    "print('Number cities with at least 1 value of private investment: ', len(null_private[null_private>0]))\n",
    "print('% of cities with non null value in private investment: ', len(null_private[null_private>0])/n_cities * 100)\n",
    "\n",
    "plt.hist(null_private[null_private>0])\n",
    "plt.title('Distribution of not nulls in Private investment feature per city')"
   ]
  },
  {
   "cell_type": "code",
   "execution_count": 10,
   "metadata": {
    "collapsed": false
   },
   "outputs": [
    {
     "data": {
      "text/plain": [
       "<matplotlib.text.Text at 0x19d8da489b0>"
      ]
     },
     "execution_count": 10,
     "metadata": {},
     "output_type": "execute_result"
    },
    {
     "data": {
      "image/png": "[encoded data removed]",
      "text/plain": [
       "<matplotlib.figure.Figure at 0x19d8ce0ff28>"
      ]
     },
     "metadata": {},
     "output_type": "display_data"
    }
   ],
   "source": [
    "plt.hist(null_private[null_private>0], cumulative=True)\n",
    "plt.title('Cumulative Distribution of not nulls in Private investment feature per city')"
   ]
  },
  {
   "cell_type": "code",
   "execution_count": 13,
   "metadata": {
    "collapsed": false
   },
   "outputs": [
    {
     "data": {
      "text/plain": [
       "year\n",
       "2000     0.0\n",
       "2001     0.0\n",
       "2002     1.0\n",
       "2003     0.0\n",
       "2004     0.0\n",
       "2005     2.0\n",
       "2006     2.0\n",
       "2007     3.0\n",
       "2008    11.0\n",
       "2009    12.0\n",
       "2010    25.0\n",
       "2011    51.0\n",
       "2012    70.0\n",
       "2013    73.0\n",
       "2014    72.0\n",
       "2015    74.0\n",
       "Name: private_inv, dtype: float64"
      ]
     },
     "execution_count": 13,
     "metadata": {},
     "output_type": "execute_result"
    }
   ],
   "source": [
    "# lets check if there is some concetration in any year that we have at least 1 value for private investment :\n",
    "\n",
    "null_private_year = data['private_inv'].notnull().groupby(data['year']).sum()\n",
    "null_private_year\n",
    "\n",
    "#count of Nan`s by year"
   ]
  },
  {
   "cell_type": "markdown",
   "metadata": {},
   "source": [
    "It seems that the years after 2013 is the year where the most part of private investment data is concentrated."
   ]
  },
  {
   "cell_type": "markdown",
   "metadata": {},
   "source": [
    "<h4> 3.Check the number of NaN's public investment feature (one of our main tests) </h4>"
   ]
  },
  {
   "cell_type": "code",
   "execution_count": 14,
   "metadata": {
    "collapsed": false
   },
   "outputs": [
    {
     "name": "stdout",
     "output_type": "stream",
     "text": [
      "Number of unique cities:  645\n",
      "Number cities with at least 1 value of public investment:  489\n",
      "% of cities with value in public investment:  75.81395348837209\n"
     ]
    },
    {
     "data": {
      "text/plain": [
       "<matplotlib.text.Text at 0x19d8dcf56a0>"
      ]
     },
     "execution_count": 14,
     "metadata": {},
     "output_type": "execute_result"
    },
    {
     "data": {
      "image/png": "[encoded data removed]",
      "text/plain": [
       "<matplotlib.figure.Figure at 0x19d8da98780>"
      ]
     },
     "metadata": {},
     "output_type": "display_data"
    }
   ],
   "source": [
    "## Public Investment\n",
    "\n",
    "\n",
    "null_pub = data['pub_inv'].notnull().groupby(data['city']).sum()\n",
    "\n",
    "# here we need to check in the cities that have some public investment value, how the distribution of NaN looks? \n",
    "\n",
    "print('Number of unique cities: ', n_cities)\n",
    "print('Number cities with at least 1 value of public investment: ', len(null_pub[null_pub >0]))\n",
    "print('% of cities with value in public investment: ', len(null_pub[null_pub >0])/n_cities * 100)\n",
    "\n",
    "plt.hist(null_pub[null_pub >0])\n",
    "plt.title('Distribution of null in Public investment in features per city')"
   ]
  },
  {
   "cell_type": "code",
   "execution_count": 15,
   "metadata": {
    "collapsed": false
   },
   "outputs": [
    {
     "data": {
      "text/plain": [
       "<matplotlib.text.Text at 0x19d8ddb1e48>"
      ]
     },
     "execution_count": 15,
     "metadata": {},
     "output_type": "execute_result"
    },
    {
     "data": {
      "image/png": "[encoded data removed]",
      "text/plain": [
       "<matplotlib.figure.Figure at 0x19d8da8abe0>"
      ]
     },
     "metadata": {},
     "output_type": "display_data"
    }
   ],
   "source": [
    "plt.hist(null_pub[null_pub>0], cumulative=True)\n",
    "plt.title('Cumulative Distribution of null in Public investment in features per city')"
   ]
  },
  {
   "cell_type": "code",
   "execution_count": 16,
   "metadata": {
    "collapsed": false
   },
   "outputs": [
    {
     "data": {
      "text/plain": [
       "year\n",
       "2000      0.0\n",
       "2001      0.0\n",
       "2002      0.0\n",
       "2003      0.0\n",
       "2004      0.0\n",
       "2005      0.0\n",
       "2006      0.0\n",
       "2007     47.0\n",
       "2008     42.0\n",
       "2009     33.0\n",
       "2010    134.0\n",
       "2011     89.0\n",
       "2012    105.0\n",
       "2013    409.0\n",
       "2014    100.0\n",
       "2015      1.0\n",
       "Name: pub_inv, dtype: float64"
      ]
     },
     "execution_count": 16,
     "metadata": {},
     "output_type": "execute_result"
    }
   ],
   "source": [
    "# lets check if there is some concetration in any year that we have at least 1 value for public investment :\n",
    "\n",
    "null_public_year = data['pub_inv'].notnull().groupby(data['year']).sum()\n",
    "null_public_year\n",
    "\n",
    "#count of Nan`s by year"
   ]
  },
  {
   "cell_type": "markdown",
   "metadata": {},
   "source": [
    "there is a very good insight here: again, 2013 is the year with most values for the public investment, just like private investment. Here it seems that 2013 would be our most likely option."
   ]
  },
  {
   "cell_type": "code",
   "execution_count": 30,
   "metadata": {
    "collapsed": false
   },
   "outputs": [
    {
     "data": {
      "text/plain": [
       "<matplotlib.text.Text at 0x24320e017b8>"
      ]
     },
     "execution_count": 30,
     "metadata": {},
     "output_type": "execute_result"
    },
    {
     "data": {
      "image/png": "[encoded data removed]",
      "text/plain": [
       "<matplotlib.figure.Figure at 0x24320db4358>"
      ]
     },
     "metadata": {},
     "output_type": "display_data"
    }
   ],
   "source": [
    "plt.figure(figsize=(8,8))\n",
    "\n",
    "plt.plot(null_public_year, color='b' )\n",
    "plt.plot(null_private_year, color='r' )\n",
    "plt.plot(null_gdp_year, color='g' )\n",
    "plt.legend(loc=10)\n",
    "plt.xlabel('Year')\n",
    "plt.ylabel('Number of city with not null values')\n",
    "plt.title('Number of cities with not null values by Year')"
   ]
  },
  {
   "cell_type": "markdown",
   "metadata": {
    "collapsed": true
   },
   "source": [
    "Visually, it seems that 2013 looks like a good year, but just check for one more thing. <br><br>\n",
    "\n",
    "How much of this cities have both types of investment? In other words, how much this informations overlap? "
   ]
  },
  {
   "cell_type": "code",
   "execution_count": 24,
   "metadata": {
    "collapsed": false
   },
   "outputs": [
    {
     "name": "stdout",
     "output_type": "stream",
     "text": [
      "(%) Cities with just private investment: 0.20398009950248755\n",
      "(%) Cities with just public investment: 0.6716417910447762\n",
      "(%) Cities with bost investments: 0.12437810945273632\n"
     ]
    }
   ],
   "source": [
    "overlap = data[data.private_inv.notnull() | data.pub_inv.notnull()]\n",
    "overlap_count = len(overlap[overlap.private_inv.notnull() & overlap.pub_inv.notnull()])\n",
    "justprivate = len(overlap[overlap.private_inv.notnull() & overlap.pub_inv.isnull()])\n",
    "justpub = len(overlap[overlap.private_inv.isnull() & overlap.pub_inv.notnull()])\n",
    "\n",
    "print(\"(%) Cities with just private investment:\", justprivate/len(overlap))\n",
    "print(\"(%) Cities with just public investment:\", justpub/len(overlap))\n",
    "print(\"(%) Cities with bost investments:\", overlap_count/len(overlap))\n"
   ]
  },
  {
   "cell_type": "markdown",
   "metadata": {
    "collapsed": true
   },
   "source": [
    "So, there is a lot of values with bot investments and a similar amount with osolate values, which could be good to balance our analysis. <br> <br>"
   ]
  },
  {
   "cell_type": "markdown",
   "metadata": {},
   "source": [
    "<div class=\"alert alert-success\">\n",
    "Here we could see that 2013 should be the better year to apply the method since we have the most of our main predictors. <br> <br>\n",
    "\n",
    "Another thing is that, beginning from 2010 and going to 2013, could be a good period if we choose to use the mean of more than 1 years to calcule the hyperplanes, since we have important data concetrated in this years.  <br>\n",
    "</div>"
   ]
  }
 ],
 "metadata": {
  "kernelspec": {
   "display_name": "Python 3",
   "language": "python",
   "name": "python3"
  },
  "language_info": {
   "codemirror_mode": {
    "name": "ipython",
    "version": 3
   },
   "file_extension": ".py",
   "mimetype": "text/x-python",
   "name": "python",
   "nbconvert_exporter": "python",
   "pygments_lexer": "ipython3",
   "version": "3.6.0"
  }
 },
 "nbformat": 4,
 "nbformat_minor": 2
}
